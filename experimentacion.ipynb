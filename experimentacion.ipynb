{
 "cells": [
  {
   "cell_type": "markdown",
   "metadata": {},
   "source": [
    "# Implementación experimental\n",
    "## Integrantes:  \n",
    "\n",
    "* Anthony Daniel Bautista León\n",
    "* Cristopher Sebastián García Pacheco\n",
    "* Rosa Irene Limachi Paucar  \n",
    "* Julio Rosales Joaquin  \n",
    "  \n",
    "  \n",
    "**Fecha de entrega: 9-noviembre-2018**"
   ]
  },
  {
   "cell_type": "markdown",
   "metadata": {},
   "source": [
    "Empezamos con el uso de manejo de archivos en python para crear una base de datos en la que guardaremos y vericaremos los datos de ciertos usuarios. Haciendo uso de la librería *csv* podemos manejar este tipo de archivos."
   ]
  },
  {
   "cell_type": "code",
   "execution_count": 1,
   "metadata": {},
   "outputs": [],
   "source": [
    "import csv\n",
    "\n",
    "def crear_archivo(base_de_datos):\n",
    "    archivo = open(base_de_datos, \"w\")\n",
    "    archivo.write(\"Usuario,Contraseña\\n\")\n",
    "    archivo.close()\n",
    "\n",
    "def guardar_datos(base_de_datos, datos):\t#base_de_datos es un archivo con los datos, datos es una lista\n",
    "    archivo = open(base_de_datos, \"a\")\t\t#abrimos el archivo para escritura al final\n",
    "    archivo_csv = csv.writer(archivo)\n",
    "    archivo_csv.writerows(datos)\t\t\t#llenamos la fila del archivo\n",
    "    archivo.close()\t\t\t\t\t\t\t#cerramos el archivo\n",
    "\n",
    "def existencia_usuario(base_de_datos, usuario):\n",
    "    ok = 0\n",
    "    archivo = open(base_de_datos, \"r\")\n",
    "    archivo_csv = csv.reader(archivo)\n",
    "    for row in archivo_csv:\t\t\t\t#vemos linea por linea\n",
    "        if row[0] == usuario:\t\t\t#si existe el usuario\n",
    "            ok = 1\n",
    "            break\n",
    "    archivo.close()\n",
    "    if ok == 0:\n",
    "        return False\n",
    "    elif ok == 1:\n",
    "        return True\n",
    "    \n",
    "def validar_datos(base_de_datos, datos):\n",
    "    ok = 0\n",
    "    archivo = open(base_de_datos, \"r\")\n",
    "    archivo_csv = csv.reader(archivo)\n",
    "    for row in archivo_csv:\t\t\t\t\t\t\t\t#vemos linea por linea\n",
    "        if row[0] == datos[0] and row[1] == datos[1]:\t#si coincide el usuario y contraseña\n",
    "            ok = 1\n",
    "            break\n",
    "    archivo.close()\n",
    "    if ok == 0:\n",
    "        return False\n",
    "    elif ok == 1:\n",
    "        return True"
   ]
  },
  {
   "cell_type": "markdown",
   "metadata": {},
   "source": [
    "Ahora implementamos el Hash del cuco para encriptar la entrada de datos, en este caso, lo usaremos para encriptar contraseña, de esta forma solo la tendrá el usuario."
   ]
  },
  {
   "cell_type": "code",
   "execution_count": 2,
   "metadata": {},
   "outputs": [],
   "source": [
    "n = 7\t\t\t#tamaño de las tablas hash\n",
    "ver = 2\t\t\t#numero de tablas y funciones hash\n",
    "hashTable = [[i*0 for i in range(n)], [i*0 for i in range(n)]]\t#inicializamos las tablas en 0\n",
    "pos = [0, 0]\t#guardara las salidas de la funcion hash\n",
    "aux = []\t\t#guardara los elementos que no pueda posicionar por encontrar un ciclo.\n",
    "\n",
    "def funcion_hash(funcion, clave):\n",
    "    suma = 0\n",
    "    for i in clave:\n",
    "        suma+=ord(i)\t\t\t#suma de ascii de cada letra\n",
    "    if(funcion == 1):\n",
    "        return suma%n\n",
    "    elif(funcion == 2):\n",
    "        return n-(suma%n)-1\n",
    "        \n",
    "\n",
    "def colocar(clave, tabla, cont, n): \n",
    "    if (cont == n):\t\t\t\t\t\t\t\t#detecta el bucle al intentar posicionar\n",
    "        aux.append(clave)\t\t\t\t\t\t#guardamos el elemento en una lista auxiliar\n",
    "        return\n",
    "    for i in range(ver):\n",
    "        pos[i] = funcion_hash(i+1, clave)\t\t#hallamos los indices para posicionarlo en cada tabla\n",
    "    if (hashTable[tabla][pos[tabla]] != 0):\t\t#si encuentra un elemento en la posicion que quiero\n",
    "        save = hashTable[tabla][pos[tabla]]\t\t#guardamos ese elemento\n",
    "        hashTable[tabla][pos[tabla]] = clave\t#y posicionamos la clave en el lugar que queremos\n",
    "        colocar(save, (tabla+1)%ver, cont+1, n)\t#colocando el que estaba ahi, en la otra tabla\n",
    "    else:\n",
    "        hashTable[tabla][pos[tabla]] = clave;\t#si no hay un elemento, simplemente lo coloca ahi\n",
    "\n",
    "def actualizar_tabla():\n",
    "    global hashTable\n",
    "    hashTable = [[i*0 for i in range(n)], [i*0 for i in range(n)]]    \n",
    "        \n",
    "def cuckoo(valores, n):\n",
    "    for i in valores:\n",
    "        cont = 0\n",
    "        colocar(i, 0, cont, n)\t\t\t\t#colocar todos los valores\n",
    "    contraseña = [l for l in hashTable[0] if l != 0] + [l for l in hashTable[1] if l != 0] + aux #concatenamos sin los ceros\n",
    "    cadena = \"\".join(contraseña)\t\t\t#lo convertimos a cadena\n",
    "    actualizar_tabla()\t\t\t\t\t\t#actualizamos la tabla en ceros al final para la siguiente cadena\n",
    "    return cadena\n"
   ]
  },
  {
   "cell_type": "markdown",
   "metadata": {},
   "source": [
    "Como ya tenemos la base del programa, ahora veremos qué hacer con los datos que recibimos, cómo usarlos y dónde guardarlos."
   ]
  },
  {
   "cell_type": "code",
   "execution_count": 3,
   "metadata": {},
   "outputs": [],
   "source": [
    "crear_archivo(\"base_de_datos.csv\")\t\t#creamos el archivo para la base de datos\n",
    "\n",
    "\n",
    "def recibir_para_guardar():\n",
    "    ex = True\n",
    "    while ex:\n",
    "        usuario = input(\"\\nIngrese usuario: \")\n",
    "        ex = existencia_usuario(\"base_de_datos.csv\", usuario)\t#vemos si existe ese nombre de usuario en la base de datos\n",
    "        if ex:\n",
    "            print(\"El nombre de usuario ya existe.\")\n",
    "    print(\"Nombre de usuario válido.\")\n",
    "    contraseña = input(\"Ingrese contraseña: \")\n",
    "    return usuario, contraseña\n",
    "\n",
    "def recibir_para_validar():\n",
    "    usuario = input(\"\\nIngrese usuario: \")\n",
    "    contraseña1 = input(\"Ingrese contraseña: \")\n",
    "    contraseña2 = transformar_entrada(contraseña1)\n",
    "    return usuario, contraseña2\n",
    "\n",
    "def transformar_entrada(entrada):\n",
    "    cadena_aux = (\",\").join(entrada)\t\t#añadimos comas entre cada letra del string\t\n",
    "    cadena = cadena_aux.split(\",\")\t\t\t#y lo convertimos a lista de letras\n",
    "    return cadena\n",
    "\n",
    "\n",
    "def guardando_datos():\n",
    "    usuario, contraseña = recibir_para_guardar()\n",
    "    cadena = cuckoo(contraseña, len(contraseña))\t\t#aplicamos el hash del cuco a la contraseña\n",
    "    entrada = [(usuario, cadena)]\n",
    "    guardar_datos(\"base_de_datos.csv\", entrada)\t\t#y lo guardamos(encriptado) en la base de datos\n",
    "    print(\"Bienvenido {}, te registraste con éxito.\".format(usuario))\n",
    "    \n",
    "def validando_datos():\n",
    "    usuario, contraseña = recibir_para_validar()\n",
    "    cadena = cuckoo(contraseña, len(contraseña))\t\t#aplicamos el hash del cuco a la contraseña\n",
    "    entrada = (usuario, cadena)\n",
    "    ex = validar_datos(\"base_de_datos.csv\", entrada)\t#y verificamos si esta en la base de datos\n",
    "    if ex:\n",
    "        print(\"El usuario está registrado.\")\n",
    "    else:\n",
    "        print(\"Nombre de usuario o contraseña incorrectos.\")\n",
    "        "
   ]
  },
  {
   "cell_type": "markdown",
   "metadata": {},
   "source": [
    "Utilizaremos un menú para interactuar con el usuario."
   ]
  },
  {
   "cell_type": "code",
   "execution_count": 4,
   "metadata": {},
   "outputs": [],
   "source": [
    "def menu():\n",
    "    print(\"\\n======================================================\")\n",
    "    print(\"\\t\\tAcceso de usuario\")\n",
    "    print(\"======================================================\")\n",
    "    print(\"\\t1.- Registrarse.\")\n",
    "    print(\"\\t2.- Validar usuario.\")\n",
    "    print(\"\\t3.- Salir.\")\n",
    "\n",
    "def repetir_menu():\n",
    "    while True:\n",
    "        menu()\n",
    "        opcion = input(\"Ingrese opcion: \")\n",
    "        if opcion == \"1\":\n",
    "            guardando_datos()\n",
    "        elif opcion == \"2\":\n",
    "            validando_datos()\n",
    "        elif opcion == \"3\":\n",
    "            print(\"Gracias por usar el sistema de login.\")\n",
    "            break\n",
    "        else:\n",
    "            print(\"Pulsa una opcion correcta.\")\n",
    "\n",
    "def main():\n",
    "    repetir_menu()"
   ]
  },
  {
   "cell_type": "markdown",
   "metadata": {},
   "source": [
    "Finalmente llamamos a la función principal para empezar el programa"
   ]
  },
  {
   "cell_type": "code",
   "execution_count": 5,
   "metadata": {
    "scrolled": true
   },
   "outputs": [
    {
     "name": "stdout",
     "output_type": "stream",
     "text": [
      "\n",
      "======================================================\n",
      "\t\tAcceso de usuario\n",
      "======================================================\n",
      "\t1.- Registrarse.\n",
      "\t2.- Validar usuario.\n",
      "\t3.- Salir.\n",
      "Ingrese opcion: 1\n",
      "\n",
      "Ingrese usuario: mario\n",
      "Nombre de usuario válido.\n",
      "Ingrese contraseña: qwerty\n",
      "Bienvenido mario, te registraste con éxito.\n",
      "\n",
      "======================================================\n",
      "\t\tAcceso de usuario\n",
      "======================================================\n",
      "\t1.- Registrarse.\n",
      "\t2.- Validar usuario.\n",
      "\t3.- Salir.\n",
      "Ingrese opcion: 1\n",
      "\n",
      "Ingrese usuario: pepe\n",
      "Nombre de usuario válido.\n",
      "Ingrese contraseña: asdfgh\n",
      "Bienvenido pepe, te registraste con éxito.\n",
      "\n",
      "======================================================\n",
      "\t\tAcceso de usuario\n",
      "======================================================\n",
      "\t1.- Registrarse.\n",
      "\t2.- Validar usuario.\n",
      "\t3.- Salir.\n",
      "Ingrese opcion: 1\n",
      "\n",
      "Ingrese usuario: pepe\n",
      "El nombre de usuario ya existe.\n",
      "\n",
      "Ingrese usuario: anthony\n",
      "Nombre de usuario válido.\n",
      "Ingrese contraseña: zxcvb\n",
      "Bienvenido anthony, te registraste con éxito.\n",
      "\n",
      "======================================================\n",
      "\t\tAcceso de usuario\n",
      "======================================================\n",
      "\t1.- Registrarse.\n",
      "\t2.- Validar usuario.\n",
      "\t3.- Salir.\n",
      "Ingrese opcion: 2\n",
      "\n",
      "Ingrese usuario: pepe\n",
      "Ingrese contraseña: asdfgh\n",
      "El usuario está registrado.\n",
      "\n",
      "======================================================\n",
      "\t\tAcceso de usuario\n",
      "======================================================\n",
      "\t1.- Registrarse.\n",
      "\t2.- Validar usuario.\n",
      "\t3.- Salir.\n",
      "Ingrese opcion: 3\n",
      "Gracias por usar el sistema de login.\n"
     ]
    }
   ],
   "source": [
    "main()"
   ]
  },
  {
   "cell_type": "markdown",
   "metadata": {},
   "source": [
    "Notaremos que en nuestra carpeta se ha creado un archivo llamado **\"base_de_datos.csv\"**, este se reescribirá cada vez que iniciemos el programa. Podremos abrir el archivo o verlo de una forma más interesante. Utilizaremos la librería *pandas* para visalizarlo en este cuaderno. "
   ]
  },
  {
   "cell_type": "code",
   "execution_count": 7,
   "metadata": {},
   "outputs": [
    {
     "name": "stdout",
     "output_type": "stream",
     "text": [
      "   Usuario Contraseña\n",
      "0    mario     wqyetr\n",
      "1     pepe     dsfgha\n",
      "2  anthony      bczvx\n"
     ]
    }
   ],
   "source": [
    "import pandas as pd\n",
    "\n",
    "tabla = pd.read_csv(\"base_de_datos.csv\")\n",
    "print(tabla)"
   ]
  },
  {
   "cell_type": "markdown",
   "metadata": {},
   "source": [
    "Como vemos, las contraseñas están encriptadas, de esta forma, son un poco más seguras."
   ]
  }
 ],
 "metadata": {
  "kernelspec": {
   "display_name": "Python 3",
   "language": "python",
   "name": "python3"
  },
  "language_info": {
   "codemirror_mode": {
    "name": "ipython",
    "version": 3
   },
   "file_extension": ".py",
   "mimetype": "text/x-python",
   "name": "python",
   "nbconvert_exporter": "python",
   "pygments_lexer": "ipython3",
   "version": "3.5.5"
  }
 },
 "nbformat": 4,
 "nbformat_minor": 2
}
