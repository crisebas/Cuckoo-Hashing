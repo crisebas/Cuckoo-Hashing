{
 "cells": [
  {
   "cell_type": "code",
   "execution_count": 34,
   "metadata": {
    "scrolled": true
   },
   "outputs": [
    {
     "name": "stdout",
     "output_type": "stream",
     "text": [
      "\" una \" no posicionada.\n",
      "\" es \" no posicionada.\n",
      "['para', 'lista', 'cuckoo', 'prueba', 'Hola', 'el']\n",
      "[0, 0, 'esta', 0, 0, 'hashing']\n",
      "['una', 'es']\n"
     ]
    }
   ],
   "source": [
    "n = 6      #tamaño de las tablas hash\n",
    "ver = 2    #numero de tablas y funciones hash\n",
    "hashTable = [[i*0 for i in range(n)], [i*0 for i in range(n)]] #inicializamos las tablas en ceros\n",
    "pos = [0, 0]    #guardara las salidas de la funcion hash\n",
    "aux = []        #guardara los elementos que no pueda posicionar por encontrar un ciclo.\n",
    "\n",
    "def funcion_hash(funcion, clave):\n",
    "    suma = 0\n",
    "    for i in clave:\n",
    "        suma+=ord(i)        #suma de ascii de cada letra\n",
    "    if(funcion == 1):\n",
    "        return suma%n\n",
    "    elif(funcion == 2):\n",
    "        return n-(suma%n)-1\n",
    "        \n",
    "\n",
    "def colocar(clave, tabla, cont, n): \n",
    "    if (cont == n):                            #detecta el bucle al intentar posicionar\n",
    "        print(\"\\\"\",clave,\"\\\"\", \"no posicionada.\") \n",
    "        aux.append(clave)                      #guardamos el elemento en una lista auxiliar\n",
    "        return\n",
    "    for i in range(ver):\n",
    "        pos[i] = funcion_hash(i+1, clave)       #hallamos los indices para posicionarlo en cada tabla\n",
    "    if (hashTable[tabla][pos[tabla]] != 0):     #si encuentra un elemento en la posicion que quiero\n",
    "        save = hashTable[tabla][pos[tabla]]     #guardamos ese elemento\n",
    "        hashTable[tabla][pos[tabla]] = clave    #y posicionamos la clave en el lugar que queremos\n",
    "        colocar(save, (tabla+1)%ver, cont+1, n) #y colocando el que estaba ahi, en la otra tabla\n",
    "    else:\n",
    "        hashTable[tabla][pos[tabla]] = clave;   #si no hay un elemento, simplemente lo coloca ahi\n",
    "\n",
    "def cuckoo(valores, n):\n",
    "    for i in valores:\n",
    "        cont = 0\n",
    "        colocar(i, 0, cont, n)      #colocar todos los valores\n",
    "    print(hashTable[0])\n",
    "    print(hashTable[1])\n",
    "    print(aux)\n",
    "\n",
    "\n",
    "valores = [\"Hola\", \"esta\", \"lista\", \"es\", \"una\", \"prueba\", \"para\", \"el\", \"cuckoo\", \"hashing\"]\n",
    "cuckoo(valores, len(valores))"
   ]
  },
  {
   "cell_type": "code",
   "execution_count": null,
   "metadata": {},
   "outputs": [],
   "source": []
  }
 ],
 "metadata": {
  "kernelspec": {
   "display_name": "Python 3",
   "language": "python",
   "name": "python3"
  },
  "language_info": {
   "codemirror_mode": {
    "name": "ipython",
    "version": 3
   },
   "file_extension": ".py",
   "mimetype": "text/x-python",
   "name": "python",
   "nbconvert_exporter": "python",
   "pygments_lexer": "ipython3",
   "version": "3.5.5"
  }
 },
 "nbformat": 4,
 "nbformat_minor": 2
}
